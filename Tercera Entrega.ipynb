{
 "cells": [
  {
   "cell_type": "code",
   "execution_count": 3,
   "metadata": {},
   "outputs": [],
   "source": [
    "import pandas \n",
    "import matplotlib as plt"
   ]
  },
  {
   "cell_type": "code",
   "execution_count": 4,
   "metadata": {},
   "outputs": [
    {
     "data": {
      "text/html": [
       "<div>\n",
       "<style scoped>\n",
       "    .dataframe tbody tr th:only-of-type {\n",
       "        vertical-align: middle;\n",
       "    }\n",
       "\n",
       "    .dataframe tbody tr th {\n",
       "        vertical-align: top;\n",
       "    }\n",
       "\n",
       "    .dataframe thead th {\n",
       "        text-align: right;\n",
       "    }\n",
       "</style>\n",
       "<table border=\"1\" class=\"dataframe\">\n",
       "  <thead>\n",
       "    <tr style=\"text-align: right;\">\n",
       "      <th></th>\n",
       "      <th>MERV</th>\n",
       "      <th>BVSP</th>\n",
       "      <th>GSPC</th>\n",
       "      <th>NDX</th>\n",
       "      <th>FTSE</th>\n",
       "      <th>GDAXI</th>\n",
       "      <th>FCHI</th>\n",
       "      <th>N225</th>\n",
       "      <th>HSI</th>\n",
       "      <th>SSEC</th>\n",
       "      <th>BSESN</th>\n",
       "      <th>Year</th>\n",
       "      <th>Month</th>\n",
       "      <th>Weekday</th>\n",
       "    </tr>\n",
       "    <tr>\n",
       "      <th>FECHA</th>\n",
       "      <th></th>\n",
       "      <th></th>\n",
       "      <th></th>\n",
       "      <th></th>\n",
       "      <th></th>\n",
       "      <th></th>\n",
       "      <th></th>\n",
       "      <th></th>\n",
       "      <th></th>\n",
       "      <th></th>\n",
       "      <th></th>\n",
       "      <th></th>\n",
       "      <th></th>\n",
       "      <th></th>\n",
       "    </tr>\n",
       "  </thead>\n",
       "  <tbody>\n",
       "    <tr>\n",
       "      <th>1997-07-02</th>\n",
       "      <td>6.714504</td>\n",
       "      <td>9.418606</td>\n",
       "      <td>6.806863</td>\n",
       "      <td>6.883391</td>\n",
       "      <td>8.977220</td>\n",
       "      <td>8.375751</td>\n",
       "      <td>8.091117</td>\n",
       "      <td>5.172511</td>\n",
       "      <td>7.587500</td>\n",
       "      <td>4.970511</td>\n",
       "      <td>4.796275</td>\n",
       "      <td>1997</td>\n",
       "      <td>7</td>\n",
       "      <td>Wednesday</td>\n",
       "    </tr>\n",
       "    <tr>\n",
       "      <th>1997-07-03</th>\n",
       "      <td>6.723759</td>\n",
       "      <td>9.419469</td>\n",
       "      <td>6.821020</td>\n",
       "      <td>6.894184</td>\n",
       "      <td>9.006794</td>\n",
       "      <td>8.395939</td>\n",
       "      <td>8.102216</td>\n",
       "      <td>5.178089</td>\n",
       "      <td>7.572529</td>\n",
       "      <td>4.929226</td>\n",
       "      <td>4.794143</td>\n",
       "      <td>1997</td>\n",
       "      <td>7</td>\n",
       "      <td>Thursday</td>\n",
       "    </tr>\n",
       "    <tr>\n",
       "      <th>1997-07-04</th>\n",
       "      <td>6.731459</td>\n",
       "      <td>9.047596</td>\n",
       "      <td>6.819701</td>\n",
       "      <td>6.895324</td>\n",
       "      <td>9.038176</td>\n",
       "      <td>8.396646</td>\n",
       "      <td>8.100296</td>\n",
       "      <td>5.169943</td>\n",
       "      <td>7.553691</td>\n",
       "      <td>4.908267</td>\n",
       "      <td>4.787493</td>\n",
       "      <td>1997</td>\n",
       "      <td>7</td>\n",
       "      <td>Friday</td>\n",
       "    </tr>\n",
       "    <tr>\n",
       "      <th>1997-07-07</th>\n",
       "      <td>6.735612</td>\n",
       "      <td>9.435578</td>\n",
       "      <td>6.815859</td>\n",
       "      <td>6.898755</td>\n",
       "      <td>9.001550</td>\n",
       "      <td>8.410534</td>\n",
       "      <td>8.104428</td>\n",
       "      <td>5.164795</td>\n",
       "      <td>7.559571</td>\n",
       "      <td>4.881292</td>\n",
       "      <td>4.785874</td>\n",
       "      <td>1997</td>\n",
       "      <td>7</td>\n",
       "      <td>Monday</td>\n",
       "    </tr>\n",
       "    <tr>\n",
       "      <th>1997-07-08</th>\n",
       "      <td>6.741009</td>\n",
       "      <td>9.443040</td>\n",
       "      <td>6.823014</td>\n",
       "      <td>6.913548</td>\n",
       "      <td>8.991528</td>\n",
       "      <td>8.413088</td>\n",
       "      <td>8.094231</td>\n",
       "      <td>5.170894</td>\n",
       "      <td>7.554989</td>\n",
       "      <td>4.892927</td>\n",
       "      <td>4.789907</td>\n",
       "      <td>1997</td>\n",
       "      <td>7</td>\n",
       "      <td>Tuesday</td>\n",
       "    </tr>\n",
       "  </tbody>\n",
       "</table>\n",
       "</div>"
      ],
      "text/plain": [
       "                MERV      BVSP      GSPC       NDX      FTSE     GDAXI  \\\n",
       "FECHA                                                                    \n",
       "1997-07-02  6.714504  9.418606  6.806863  6.883391  8.977220  8.375751   \n",
       "1997-07-03  6.723759  9.419469  6.821020  6.894184  9.006794  8.395939   \n",
       "1997-07-04  6.731459  9.047596  6.819701  6.895324  9.038176  8.396646   \n",
       "1997-07-07  6.735612  9.435578  6.815859  6.898755  9.001550  8.410534   \n",
       "1997-07-08  6.741009  9.443040  6.823014  6.913548  8.991528  8.413088   \n",
       "\n",
       "                FCHI      N225       HSI      SSEC     BSESN  Year  Month  \\\n",
       "FECHA                                                                       \n",
       "1997-07-02  8.091117  5.172511  7.587500  4.970511  4.796275  1997      7   \n",
       "1997-07-03  8.102216  5.178089  7.572529  4.929226  4.794143  1997      7   \n",
       "1997-07-04  8.100296  5.169943  7.553691  4.908267  4.787493  1997      7   \n",
       "1997-07-07  8.104428  5.164795  7.559571  4.881292  4.785874  1997      7   \n",
       "1997-07-08  8.094231  5.170894  7.554989  4.892927  4.789907  1997      7   \n",
       "\n",
       "              Weekday  \n",
       "FECHA                  \n",
       "1997-07-02  Wednesday  \n",
       "1997-07-03   Thursday  \n",
       "1997-07-04     Friday  \n",
       "1997-07-07     Monday  \n",
       "1997-07-08    Tuesday  "
      ]
     },
     "execution_count": 4,
     "metadata": {},
     "output_type": "execute_result"
    }
   ],
   "source": [
    "from pandas import read_csv\n",
    "\n",
    "data = pandas.read_csv(r'C:\\Users\\Tomi\\Documents\\DiploDatos\\Mentoria\\serie_log.csv',\n",
    "                       index_col=0, parse_dates=True, dayfirst=True)\n",
    "\n",
    "data.head()\n",
    "\n",
    "# Data es el logaritmo del valor de los indices "
   ]
  },
  {
   "cell_type": "markdown",
   "metadata": {
    "colab_type": "text",
    "id": "I8941ml-Jq9C"
   },
   "source": [
    "### Walk Forward Validation"
   ]
  },
  {
   "cell_type": "code",
   "execution_count": 5,
   "metadata": {
    "colab": {
     "base_uri": "https://localhost:8080/",
     "height": 1000
    },
    "colab_type": "code",
    "executionInfo": {
     "elapsed": 1227,
     "status": "ok",
     "timestamp": 1598401453942,
     "user": {
      "displayName": "Tomás Colla",
      "photoUrl": "https://lh3.googleusercontent.com/a-/AOh14GjdxVQJ3NBdZ2iWMwFG24UcF_lsHvLd7xl49Qtq=s64",
      "userId": "15112801405859193097"
     },
     "user_tz": 180
    },
    "id": "rvmVAxx1YFov",
    "outputId": "960aa83a-80a4-4b9d-93bc-5d98f90baa0d"
   },
   "outputs": [],
   "source": [
    "from matplotlib import pyplot\n",
    "\n",
    "X = data.values\n",
    "n_train = 1050\n",
    "n_records = len(X)\n",
    "#for i in range(n_train, n_records):\n",
    "    #train, test = X[0:i], X[i:i+1]\n",
    "    #print('train=%d, test=%d' % (len(train), len(test)))"
   ]
  },
  {
   "cell_type": "markdown",
   "metadata": {},
   "source": [
    "### Test-Train Split"
   ]
  },
  {
   "cell_type": "code",
   "execution_count": 6,
   "metadata": {
    "colab": {
     "base_uri": "https://localhost:8080/",
     "height": 340
    },
    "colab_type": "code",
    "executionInfo": {
     "elapsed": 728,
     "status": "ok",
     "timestamp": 1598388705714,
     "user": {
      "displayName": "Tomás Colla",
      "photoUrl": "https://lh3.googleusercontent.com/a-/AOh14GjdxVQJ3NBdZ2iWMwFG24UcF_lsHvLd7xl49Qtq=s64",
      "userId": "15112801405859193097"
     },
     "user_tz": 180
    },
    "id": "Zwc4y0zf2Xd3",
    "outputId": "6ba445a8-3174-4b6e-f1f5-e5392b5ab934"
   },
   "outputs": [
    {
     "name": "stdout",
     "output_type": "stream",
     "text": [
      "Observations: 1708\n",
      "Training Observations: 857\n",
      "Testing Observations: 851\n",
      "Observations: 2559\n",
      "Training Observations: 1708\n",
      "Testing Observations: 851\n",
      "Observations: 3410\n",
      "Training Observations: 2559\n",
      "Testing Observations: 851\n",
      "Observations: 4261\n",
      "Training Observations: 3410\n",
      "Testing Observations: 851\n",
      "Observations: 5112\n",
      "Training Observations: 4261\n",
      "Testing Observations: 851\n",
      "Observations: 5963\n",
      "Training Observations: 5112\n",
      "Testing Observations: 851\n"
     ]
    },
    {
     "data": {
      "text/plain": [
       "<Figure size 432x288 with 0 Axes>"
      ]
     },
     "metadata": {},
     "output_type": "display_data"
    }
   ],
   "source": [
    "from matplotlib import pyplot\n",
    "from sklearn.model_selection import TimeSeriesSplit\n",
    "\n",
    "X = data.values\n",
    "splits = TimeSeriesSplit(n_splits=6, max_train_size = None)\n",
    "pyplot.figure(1)\n",
    "index = 1\n",
    "for train_index, test_index in splits.split(X):\n",
    "\ttrain = X[train_index]\n",
    "\ttest = X[test_index]\n",
    "\tprint('Observations: %d' % (len(train) + len(test)))\n",
    "\tprint('Training Observations: %d' % (len(train)))\n",
    "\tprint('Testing Observations: %d' % (len(test)))\n",
    "\t#pyplot.subplot(310 + index)\n",
    "\t#pyplot.plot(train)\n",
    "\t#pyplot.plot([None for i in train] + [x for x in test])\n",
    "\t#index += 1\n",
    "#pyplot.show()\n",
    "\n",
    "\n",
    "# Hay un problema con los graficos cuando lo hago con mas de 3 splits"
   ]
  },
  {
   "cell_type": "markdown",
   "metadata": {},
   "source": [
    "## Baseline Prediction: Average Forecast sobre los rendimientos diarios"
   ]
  },
  {
   "cell_type": "code",
   "execution_count": 7,
   "metadata": {},
   "outputs": [
    {
     "data": {
      "text/html": [
       "<div>\n",
       "<style scoped>\n",
       "    .dataframe tbody tr th:only-of-type {\n",
       "        vertical-align: middle;\n",
       "    }\n",
       "\n",
       "    .dataframe tbody tr th {\n",
       "        vertical-align: top;\n",
       "    }\n",
       "\n",
       "    .dataframe thead th {\n",
       "        text-align: right;\n",
       "    }\n",
       "</style>\n",
       "<table border=\"1\" class=\"dataframe\">\n",
       "  <thead>\n",
       "    <tr style=\"text-align: right;\">\n",
       "      <th></th>\n",
       "      <th>Year</th>\n",
       "      <th>Weekday</th>\n",
       "      <th>MERV_diario</th>\n",
       "      <th>BVSP_diario</th>\n",
       "      <th>GSPC_diario</th>\n",
       "      <th>NDX_diario</th>\n",
       "      <th>FTSE_diario</th>\n",
       "      <th>GDAXI_diario</th>\n",
       "      <th>FCHI_diario</th>\n",
       "      <th>N225_diario</th>\n",
       "      <th>HSI_diario</th>\n",
       "      <th>SSEC_diario</th>\n",
       "      <th>BSESN_diario</th>\n",
       "    </tr>\n",
       "    <tr>\n",
       "      <th>FECHA</th>\n",
       "      <th></th>\n",
       "      <th></th>\n",
       "      <th></th>\n",
       "      <th></th>\n",
       "      <th></th>\n",
       "      <th></th>\n",
       "      <th></th>\n",
       "      <th></th>\n",
       "      <th></th>\n",
       "      <th></th>\n",
       "      <th></th>\n",
       "      <th></th>\n",
       "      <th></th>\n",
       "    </tr>\n",
       "  </thead>\n",
       "  <tbody>\n",
       "    <tr>\n",
       "      <th>1997-07-02</th>\n",
       "      <td>1997</td>\n",
       "      <td>Wednesday</td>\n",
       "      <td>NaN</td>\n",
       "      <td>NaN</td>\n",
       "      <td>NaN</td>\n",
       "      <td>NaN</td>\n",
       "      <td>NaN</td>\n",
       "      <td>NaN</td>\n",
       "      <td>NaN</td>\n",
       "      <td>NaN</td>\n",
       "      <td>NaN</td>\n",
       "      <td>NaN</td>\n",
       "      <td>NaN</td>\n",
       "    </tr>\n",
       "    <tr>\n",
       "      <th>1997-07-03</th>\n",
       "      <td>1997</td>\n",
       "      <td>Thursday</td>\n",
       "      <td>0.929826</td>\n",
       "      <td>0.086285</td>\n",
       "      <td>1.425833</td>\n",
       "      <td>1.085122</td>\n",
       "      <td>3.001574</td>\n",
       "      <td>2.039279</td>\n",
       "      <td>1.116075</td>\n",
       "      <td>0.559379</td>\n",
       "      <td>-1.485951</td>\n",
       "      <td>-4.044444</td>\n",
       "      <td>-0.213017</td>\n",
       "    </tr>\n",
       "    <tr>\n",
       "      <th>1997-07-04</th>\n",
       "      <td>1997</td>\n",
       "      <td>Friday</td>\n",
       "      <td>0.772897</td>\n",
       "      <td>-31.055785</td>\n",
       "      <td>-0.131839</td>\n",
       "      <td>0.114093</td>\n",
       "      <td>3.187888</td>\n",
       "      <td>0.070745</td>\n",
       "      <td>-0.191773</td>\n",
       "      <td>-0.811322</td>\n",
       "      <td>-1.866134</td>\n",
       "      <td>-2.074027</td>\n",
       "      <td>-0.662731</td>\n",
       "    </tr>\n",
       "    <tr>\n",
       "      <th>1997-07-07</th>\n",
       "      <td>1997</td>\n",
       "      <td>Monday</td>\n",
       "      <td>0.416186</td>\n",
       "      <td>47.400318</td>\n",
       "      <td>-0.383430</td>\n",
       "      <td>0.343687</td>\n",
       "      <td>-3.596321</td>\n",
       "      <td>1.398478</td>\n",
       "      <td>0.414040</td>\n",
       "      <td>-0.513522</td>\n",
       "      <td>0.589664</td>\n",
       "      <td>-2.661495</td>\n",
       "      <td>-0.161848</td>\n",
       "    </tr>\n",
       "    <tr>\n",
       "      <th>1997-07-08</th>\n",
       "      <td>1997</td>\n",
       "      <td>Tuesday</td>\n",
       "      <td>0.541217</td>\n",
       "      <td>0.748911</td>\n",
       "      <td>0.718043</td>\n",
       "      <td>1.490356</td>\n",
       "      <td>-0.997135</td>\n",
       "      <td>0.255689</td>\n",
       "      <td>-1.014525</td>\n",
       "      <td>0.611764</td>\n",
       "      <td>-0.457160</td>\n",
       "      <td>1.170353</td>\n",
       "      <td>0.404193</td>\n",
       "    </tr>\n",
       "  </tbody>\n",
       "</table>\n",
       "</div>"
      ],
      "text/plain": [
       "            Year    Weekday  MERV_diario  BVSP_diario  GSPC_diario  \\\n",
       "FECHA                                                                \n",
       "1997-07-02  1997  Wednesday          NaN          NaN          NaN   \n",
       "1997-07-03  1997   Thursday     0.929826     0.086285     1.425833   \n",
       "1997-07-04  1997     Friday     0.772897   -31.055785    -0.131839   \n",
       "1997-07-07  1997     Monday     0.416186    47.400318    -0.383430   \n",
       "1997-07-08  1997    Tuesday     0.541217     0.748911     0.718043   \n",
       "\n",
       "            NDX_diario  FTSE_diario  GDAXI_diario  FCHI_diario  N225_diario  \\\n",
       "FECHA                                                                         \n",
       "1997-07-02         NaN          NaN           NaN          NaN          NaN   \n",
       "1997-07-03    1.085122     3.001574      2.039279     1.116075     0.559379   \n",
       "1997-07-04    0.114093     3.187888      0.070745    -0.191773    -0.811322   \n",
       "1997-07-07    0.343687    -3.596321      1.398478     0.414040    -0.513522   \n",
       "1997-07-08    1.490356    -0.997135      0.255689    -1.014525     0.611764   \n",
       "\n",
       "            HSI_diario  SSEC_diario  BSESN_diario  \n",
       "FECHA                                              \n",
       "1997-07-02         NaN          NaN           NaN  \n",
       "1997-07-03   -1.485951    -4.044444     -0.213017  \n",
       "1997-07-04   -1.866134    -2.074027     -0.662731  \n",
       "1997-07-07    0.589664    -2.661495     -0.161848  \n",
       "1997-07-08   -0.457160     1.170353      0.404193  "
      ]
     },
     "execution_count": 7,
     "metadata": {},
     "output_type": "execute_result"
    }
   ],
   "source": [
    "from pandas import read_csv\n",
    "\n",
    "rend_diario = pandas.read_csv(r'C:\\Users\\Tomi\\Documents\\DiploDatos\\Mentoria\\rend_diario.csv',\n",
    "                       index_col=0, parse_dates=True, dayfirst=True)\n",
    "\n",
    "rend_diario.head()"
   ]
  },
  {
   "cell_type": "code",
   "execution_count": 8,
   "metadata": {
    "colab_type": "text",
    "id": "dxUia_3rfj3S"
   },
   "outputs": [
    {
     "data": {
      "text/plain": [
       "(5963, 13)"
      ]
     },
     "execution_count": 8,
     "metadata": {},
     "output_type": "execute_result"
    }
   ],
   "source": [
    "rend_diario.shape"
   ]
  },
  {
   "cell_type": "code",
   "execution_count": 9,
   "metadata": {},
   "outputs": [
    {
     "data": {
      "text/plain": [
       "FECHA\n",
       "1997-07-03    0.929826\n",
       "1997-07-04    0.772897\n",
       "1997-07-07    0.416186\n",
       "1997-07-08    0.541217\n",
       "1997-07-09   -0.031313\n",
       "                ...   \n",
       "2020-05-04   -2.619989\n",
       "2020-05-05    3.579307\n",
       "2020-05-06    0.007127\n",
       "2020-05-07    4.951333\n",
       "2020-05-08    0.930783\n",
       "Name: MERV_diario, Length: 5962, dtype: float64"
      ]
     },
     "execution_count": 9,
     "metadata": {},
     "output_type": "execute_result"
    }
   ],
   "source": [
    "merval = rend_diario.iloc[1:5963,2]\n",
    "merval"
   ]
  },
  {
   "cell_type": "code",
   "execution_count": 10,
   "metadata": {},
   "outputs": [
    {
     "data": {
      "text/plain": [
       "array([0.92982646, 0.77289679, 0.41618622, ..., 0.00712715, 4.95133267,\n",
       "       0.93078253])"
      ]
     },
     "execution_count": 10,
     "metadata": {},
     "output_type": "execute_result"
    }
   ],
   "source": [
    "X = merval.values\n",
    "X"
   ]
  },
  {
   "cell_type": "code",
   "execution_count": 11,
   "metadata": {},
   "outputs": [],
   "source": [
    "X = merval.values\n",
    "window = 15\n",
    "obs = len(merval)\n",
    "\n",
    "# Este es el average forecast (en cada prediccion agrega un nuevo valor sin dropear ningun otro)\n",
    "average_forecast = []\n",
    "for i in range(window, obs):\n",
    "    average_forecast.append((X[0:i].mean(), X[i:i+1]))"
   ]
  },
  {
   "cell_type": "code",
   "execution_count": 12,
   "metadata": {},
   "outputs": [],
   "source": [
    "# si se quiere visualizar el average forecaste en tiempo real descomentar las siguientes lineas:\n",
    "\n",
    "#for prediccion,real in average_forecast:\n",
    "    #print(f\"el valor predecido fue {prediccion}  mientras que el valor real era {real}\")\n"
   ]
  },
  {
   "cell_type": "code",
   "execution_count": 13,
   "metadata": {},
   "outputs": [
    {
     "name": "stdout",
     "output_type": "stream",
     "text": [
      "20.342311061570722\n"
     ]
    }
   ],
   "source": [
    "import numpy as np\n",
    "from sklearn.metrics import mean_squared_error\n",
    "\n",
    "predicciones = np.array([pred for pred, _ in average_forecast])\n",
    "reales = np.array([real for _, real in average_forecast])\n",
    "\n",
    "# ERROR CUADRATICO MEDIO DEL AVERAGE FORECAST:\n",
    "\n",
    "Error_cuadratico = mean_squared_error(reales, predicciones)\n",
    "print(Error_cuadratico)"
   ]
  },
  {
   "cell_type": "markdown",
   "metadata": {},
   "source": [
    "## Baseline Prediction: Average Forecast con sliding window sobre los rendimientos diarios"
   ]
  },
  {
   "cell_type": "code",
   "execution_count": 14,
   "metadata": {},
   "outputs": [
    {
     "data": {
      "text/plain": [
       "(5947, 5947)"
      ]
     },
     "execution_count": 14,
     "metadata": {},
     "output_type": "execute_result"
    }
   ],
   "source": [
    "import more_itertools\n",
    "\n",
    "ventanas = np.array(list(more_itertools.windowed(X,n=15, step=1))) # me quedan conformadas 5960 ventanas\n",
    "\n",
    "# tengo que descartar la ultima ventana porque si la dejo esa ventana no va a tener ningun valor de test con el cual \n",
    "# comparar su promedio, entonces elimino la ultima ventana\n",
    "\n",
    "ventanas = np.delete(ventanas, -1, axis=0)\n",
    "len(ventanas), len(reales)\n"
   ]
  },
  {
   "cell_type": "code",
   "execution_count": 15,
   "metadata": {},
   "outputs": [],
   "source": [
    "promedio_movil = []\n",
    "for i in ventanas:\n",
    "    promedio_movil.append(i.mean())\n",
    "\n",
    "# en promedio_movil estan todas las predicciones de un average forecast con sliding window"
   ]
  },
  {
   "cell_type": "code",
   "execution_count": 16,
   "metadata": {},
   "outputs": [
    {
     "name": "stdout",
     "output_type": "stream",
     "text": [
      "21.61784410746444\n"
     ]
    }
   ],
   "source": [
    "# ERROR CUADRATICO MEDIO DEL AVERAGE FORECAST CON SLIDING WINDOW:\n",
    "\n",
    "Error_cuadratico_sw = mean_squared_error(reales, promedio_movil)\n",
    "print(Error_cuadratico_sw)"
   ]
  },
  {
   "cell_type": "markdown",
   "metadata": {},
   "source": [
    "## Modelo ARMA sobre los rendimientos diarios"
   ]
  },
  {
   "cell_type": "markdown",
   "metadata": {},
   "source": [
    "Lo que se hace ahora es aplicar un Modelo ARMA sobre los rendimientos diarios. Se hace porque estamos interesados en saber si este modelo ARMA es mejor que el modelo baseline que acabamos de aplicar, es decir, se quiere averiguar si un ARMA es un mejor modelo predictivo de los rendimientos diarios que un Average Forecast.\n",
    "\n",
    "¿Por qué se aplica un ARMA y no un ARIMA sobre los rendimientos? Pues porque en ARIMA, la I indica \"proceso integrado\", un proceso integrado es aquel en el cual se aplicó la operacion diferencia entre las observaciones para convertir la serie en estacionaria. Entonces como ahora estamos trabajando con rendimientos diarios, y por definicion el rendimiento diario ya lleva implícita la diferencia entre el logaritmo del indice en un dia y el logaritmo del indice el dia anterior, se podria decir que al utilizar rendimientos nos aseguramos que la serie es estacionaria, y por ende no hace falta aplicar más diferencias, esto es, no es necesario trabajar con un proceso integrado o ARIMA."
   ]
  },
  {
   "cell_type": "code",
   "execution_count": 17,
   "metadata": {},
   "outputs": [
    {
     "data": {
      "text/plain": [
       "array([0.92982646, 0.77289679, 0.41618622, ..., 0.00712715, 4.95133267,\n",
       "       0.93078253])"
      ]
     },
     "execution_count": 17,
     "metadata": {},
     "output_type": "execute_result"
    }
   ],
   "source": [
    "X # X es un array que contiene todos los valores del Merval en el periodo bajo analisis. "
   ]
  },
  {
   "cell_type": "markdown",
   "metadata": {},
   "source": [
    "El siguiente gráfico es muy útil para verificar visualmente que la serie de rendimientos diarios del merval es estacionaria."
   ]
  },
  {
   "cell_type": "code",
   "execution_count": 18,
   "metadata": {},
   "outputs": [
    {
     "data": {
      "text/plain": [
       "<AxesSubplot:>"
      ]
     },
     "execution_count": 18,
     "metadata": {},
     "output_type": "execute_result"
    },
    {
     "data": {
      "image/png": "[encoded data removed]",
      "text/plain": [
       "<Figure size 1440x864 with 1 Axes>"
      ]
     },
     "metadata": {
      "needs_background": "light"
     },
     "output_type": "display_data"
    }
   ],
   "source": [
    "import seaborn as sb\n",
    "import matplotlib.pyplot as plt\n",
    "\n",
    "plt.figure(figsize=(20,12))\n",
    "sb.lineplot(data = merval, label = \"Merval\")\n"
   ]
  },
  {
   "cell_type": "code",
   "execution_count": 19,
   "metadata": {},
   "outputs": [
    {
     "data": {
      "image/png": "[encoded data removed]",
      "text/plain": [
       "<Figure size 1440x864 with 1 Axes>"
      ]
     },
     "metadata": {
      "needs_background": "light"
     },
     "output_type": "display_data"
    }
   ],
   "source": [
    "from pandas.plotting import autocorrelation_plot\n",
    "\n",
    "plt.figure(figsize=(20,12))\n",
    "\n",
    "autocorrelation_plot(merval)\n",
    "pyplot.show()\n"
   ]
  },
  {
   "cell_type": "markdown",
   "metadata": {},
   "source": [
    "Este correlograma es útil para saber cuál es el orden de autoregresión. Al estar trabajando con rendimientos, esperamos que no exista ningún patrón obvio de autocorrelación, ya que en caso de haberlo sería muy fácil obtener beneficios del mismo. "
   ]
  },
  {
   "cell_type": "markdown",
   "metadata": {},
   "source": [
    "### Entrenamiento del Modelo ARMA\n",
    "\n",
    "Como no se desprende ningun orden de autocorrelación obvio visualizando el correlograma, se procede a entrenar primero un modelo ARMA lo más simple posible, esto es un ARMA(1,1)"
   ]
  },
  {
   "cell_type": "code",
   "execution_count": 20,
   "metadata": {},
   "outputs": [
    {
     "name": "stderr",
     "output_type": "stream",
     "text": [
      "C:\\Users\\Tomi\\anaconda3\\lib\\site-packages\\statsmodels\\tsa\\base\\tsa_model.py:159: ValueWarning: No frequency information was provided, so inferred frequency B will be used.\n",
      "  warnings.warn('No frequency information was'\n"
     ]
    },
    {
     "name": "stdout",
     "output_type": "stream",
     "text": [
      "                              ARMA Model Results                              \n",
      "==============================================================================\n",
      "Dep. Variable:            MERV_diario   No. Observations:                 5962\n",
      "Model:                     ARMA(1, 1)   Log Likelihood              -17176.248\n",
      "Method:                       css-mle   S.D. of innovations              4.315\n",
      "Date:                Mon, 28 Sep 2020   AIC                          34360.495\n",
      "Time:                        20:42:50   BIC                          34387.268\n",
      "Sample:                    07-03-1997   HQIC                         34369.796\n",
      "                         - 05-08-2020                                         \n",
      "=====================================================================================\n",
      "                        coef    std err          z      P>|z|      [0.025      0.975]\n",
      "-------------------------------------------------------------------------------------\n",
      "const                 0.0804      0.037      2.178      0.029       0.008       0.153\n",
      "ar.L1.MERV_diario     0.1288      0.042      3.036      0.002       0.046       0.212\n",
      "ma.L1.MERV_diario    -0.4246      0.039    -10.923      0.000      -0.501      -0.348\n",
      "                                    Roots                                    \n",
      "=============================================================================\n",
      "                  Real          Imaginary           Modulus         Frequency\n",
      "-----------------------------------------------------------------------------\n",
      "AR.1            7.7629           +0.0000j            7.7629            0.0000\n",
      "MA.1            2.3552           +0.0000j            2.3552            0.0000\n",
      "-----------------------------------------------------------------------------\n"
     ]
    },
    {
     "data": {
      "image/png": "[encoded data removed]",
      "text/plain": [
       "<Figure size 432x288 with 1 Axes>"
      ]
     },
     "metadata": {
      "needs_background": "light"
     },
     "output_type": "display_data"
    },
    {
     "data": {
      "image/png": "[encoded data removed]",
      "text/plain": [
       "<Figure size 432x288 with 1 Axes>"
      ]
     },
     "metadata": {
      "needs_background": "light"
     },
     "output_type": "display_data"
    },
    {
     "name": "stdout",
     "output_type": "stream",
     "text": [
      "                 0\n",
      "count  5962.000000\n",
      "mean      0.000096\n",
      "std       4.314973\n",
      "min     -46.152607\n",
      "25%      -1.202027\n",
      "50%       0.046469\n",
      "75%       1.235276\n",
      "max      72.084392\n"
     ]
    }
   ],
   "source": [
    "from statsmodels.tsa.arima_model import ARIMA\n",
    "from pandas import DataFrame\n",
    "\n",
    "model = ARIMA(merval, order=(1,0,1))\n",
    "model_fit = model.fit(disp=0)\n",
    "print(model_fit.summary())\n",
    "\n",
    "# plot residual errors\n",
    "residuals = DataFrame(model_fit.resid)\n",
    "residuals.plot()\n",
    "pyplot.show()\n",
    "residuals.plot(kind='kde')\n",
    "pyplot.show()\n",
    "print(residuals.describe())"
   ]
  },
  {
   "cell_type": "markdown",
   "metadata": {},
   "source": [
    "Los últimos dos gráficos representan los errores residuales del modelo en cada observación y su densidad, respectivamente. En el penúltimo gráfico confirmamos que los errores son un ruido blanco y que están centrados en cero, mientras que con el último gráfico podemos concluir también que además tienen una distribución normal o gaussiana. \n",
    "\n",
    "Cabe aclarar que aún no se ha realizado ninguna predicción, simplemente se ha implementado un modelo ARMA(1,1) sobre la totalidad de los datos disponibles. "
   ]
  },
  {
   "cell_type": "markdown",
   "metadata": {},
   "source": [
    "### Predicción con modelo ARMA"
   ]
  },
  {
   "cell_type": "markdown",
   "metadata": {},
   "source": [
    "Finalmente llega el momento de hacer las predicciones, para ello se debe dividir el conjunto de datos en entrenamiento y test. El conjunto de entrenamiento se utilizará precisamente para entrenar el modelo y generar en base a ello una predicción para cada elemento del conjunto de test.\n",
    "\n",
    "Se utilizará como conjunto de entrenamiento una \"ventana expansiva\" (llamada 'history') que comenzará teniendo el 66% de todos los datos disponibles: 3.934 observaciones. Con estas observaciones se correrá un modelo ARMA(1,1) que predecirá el valor de la observación 3.935. Luego, el verdadero valor de la observación 3.935 se incorporará al conjunto de entrenamiento (formando asi la ventana expansiva) y se utilizará este nuevo conjunto para predecir el valor de la observación 3.936, también con un modelo ARMA(1,1). El procedimiento se repetirá (es decir, se ejecutará un modelo ARMA para cada nueva observación que se reciba) hasta completarse el total del conjunto de datos disponibles. \n"
   ]
  },
  {
   "cell_type": "code",
   "execution_count": 21,
   "metadata": {},
   "outputs": [
    {
     "data": {
      "text/plain": [
       "(3934, 2028)"
      ]
     },
     "execution_count": 21,
     "metadata": {},
     "output_type": "execute_result"
    }
   ],
   "source": [
    "# Division en train y test\n",
    "\n",
    "size = int(len(X) * 0.66)\n",
    "train, test = X[0:size], X[size:len(X)]\n",
    "history = [x for x in train]\n",
    "\n",
    "len(history), len(test)"
   ]
  },
  {
   "cell_type": "code",
   "execution_count": 22,
   "metadata": {},
   "outputs": [
    {
     "name": "stdout",
     "output_type": "stream",
     "text": [
      "Test MSE: 8.529\n"
     ]
    },
    {
     "data": {
      "image/png": "[encoded data removed]",
      "text/plain": [
       "<Figure size 432x288 with 1 Axes>"
      ]
     },
     "metadata": {
      "needs_background": "light"
     },
     "output_type": "display_data"
    }
   ],
   "source": [
    "# Predicciones \n",
    "\n",
    "predictions = list()\n",
    "for t in range(len(test)):\n",
    "    model = ARIMA(history, order=(1,0,1))\n",
    "    model_fit = model.fit(disp=0)\n",
    "    output = model_fit.forecast()\n",
    "    yhat = output[0]\n",
    "    predictions.append(yhat)\n",
    "    obs = test[t]\n",
    "    history.append(obs)\n",
    "    #print('predicted=%f, expected=%f' % (yhat, obs))\n",
    "error = mean_squared_error(test, predictions)\n",
    "print('Test MSE: %.3f' % error)\n",
    "# plot\n",
    "pyplot.plot(test)\n",
    "pyplot.plot(predictions, color='red')\n",
    "pyplot.show()"
   ]
  },
  {
   "cell_type": "markdown",
   "metadata": {},
   "source": [
    "Ahora bien, para saber que tan bueno es el ECM de este modelo ARMA se lo va a comparar con el ECM de un modelo baseline dado por un Average Forecast. Pero para que ambos ECM sean comparables, los modelos deben estar haciendo predicciones sobre la misma cantidad de observaciones, por lo tanto a continuacion se presenta un Average Forecast sobre el mismo conjunto de test: las últimas 2.028 observaciones, utilizando como entrenamiento para cada una de ellas una 'ventana' de diferentes tamaños."
   ]
  },
  {
   "cell_type": "code",
   "execution_count": 26,
   "metadata": {},
   "outputs": [
    {
     "name": "stdout",
     "output_type": "stream",
     "text": [
      "8.129322252652013\n"
     ]
    },
    {
     "data": {
      "image/png": "[encoded data removed]",
      "text/plain": [
       "<Figure size 432x288 with 1 Axes>"
      ]
     },
     "metadata": {
      "needs_background": "light"
     },
     "output_type": "display_data"
    }
   ],
   "source": [
    "# Baseline Model: Average Forecast\n",
    "\n",
    "window = 5\n",
    "obs = len(test)\n",
    "\n",
    "average_forecast = []\n",
    "for i in range(window, obs):\n",
    "    average_forecast.append((test[0:i].mean(), test[i:i+1]))\n",
    "    \n",
    "predicciones = np.array([pred for pred, _ in average_forecast])\n",
    "reales = np.array([real for _, real in average_forecast])\n",
    "\n",
    "# predicciones, reales = np.array(average_forecast)\n",
    "\n",
    "Error_cuadratico = mean_squared_error(reales, predicciones)\n",
    "print(Error_cuadratico)\n",
    "\n",
    "# plot\n",
    "pyplot.plot(reales)\n",
    "pyplot.plot(predicciones, color='red')\n",
    "pyplot.show()"
   ]
  },
  {
   "cell_type": "markdown",
   "metadata": {},
   "source": [
    "El test ECM del ARMA(1,1) es de 8,52; mientras que el del modelo baseline es de 8,12. Esto quiere decir que el modelo ARMA(1,1) por mucho más complejo que sea relativo al Average Forecast, no es un mejor modelo predictivo de los rendimientos diarios. "
   ]
  },
  {
   "cell_type": "markdown",
   "metadata": {},
   "source": [
    "Al plotear el valor de las predicciones y el de los valores reales se puede ver que todas las predicciones que genera el Average Forecast son valores cercanos a cero, y surge la pregunta ¿Qué tan bueno sería un modelo predictivo que directamente arrojara como predicción para todas las observaciones el valor cero ?\n",
    "\n",
    "Se hace la prueba a continuación:"
   ]
  },
  {
   "cell_type": "code",
   "execution_count": 24,
   "metadata": {},
   "outputs": [
    {
     "name": "stdout",
     "output_type": "stream",
     "text": [
      "8.09106376278621\n"
     ]
    },
    {
     "data": {
      "image/png": "[encoded data removed]",
      "text/plain": [
       "<Figure size 432x288 with 1 Axes>"
      ]
     },
     "metadata": {
      "needs_background": "light"
     },
     "output_type": "display_data"
    }
   ],
   "source": [
    "# Baseline Model 2: 'Predecir' todos ceros.\n",
    "\n",
    "ceros = np.zeros(len(test))\n",
    "\n",
    "ECM = mean_squared_error(test, ceros)\n",
    "print(ECM)\n",
    "\n",
    "pyplot.plot(test)\n",
    "pyplot.plot(ceros, color='red')\n",
    "pyplot.show()"
   ]
  },
  {
   "cell_type": "markdown",
   "metadata": {},
   "source": [
    "En conclusión, un \"modelo\" que prediga que todos los rendimientos diarios serán iguales a cero es ligeramente mejor que el Average Forecast, el cual a su vez es mejor que un ARMA(1,1). \n",
    "\n",
    "Al considerar la naturaleza del problema al cual nos estamos enfrentando (predecir el rendimiento diario de un índice financiero), es entendible que lo mejor que se pueda hacer para predecir el rendimiento de dicha variable en un sólo dia sea decir que el mismo será nulo. "
   ]
  },
  {
   "cell_type": "markdown",
   "metadata": {},
   "source": [
    "## Baseline Prediction: Naïve Forecast sobre el log del índice"
   ]
  },
  {
   "cell_type": "code",
   "execution_count": 27,
   "metadata": {},
   "outputs": [
    {
     "data": {
      "text/html": [
       "<div>\n",
       "<style scoped>\n",
       "    .dataframe tbody tr th:only-of-type {\n",
       "        vertical-align: middle;\n",
       "    }\n",
       "\n",
       "    .dataframe tbody tr th {\n",
       "        vertical-align: top;\n",
       "    }\n",
       "\n",
       "    .dataframe thead th {\n",
       "        text-align: right;\n",
       "    }\n",
       "</style>\n",
       "<table border=\"1\" class=\"dataframe\">\n",
       "  <thead>\n",
       "    <tr style=\"text-align: right;\">\n",
       "      <th></th>\n",
       "      <th>MERV</th>\n",
       "      <th>BVSP</th>\n",
       "      <th>GSPC</th>\n",
       "      <th>NDX</th>\n",
       "      <th>FTSE</th>\n",
       "      <th>GDAXI</th>\n",
       "      <th>FCHI</th>\n",
       "      <th>N225</th>\n",
       "      <th>HSI</th>\n",
       "      <th>SSEC</th>\n",
       "      <th>BSESN</th>\n",
       "      <th>Year</th>\n",
       "      <th>Month</th>\n",
       "      <th>Weekday</th>\n",
       "    </tr>\n",
       "    <tr>\n",
       "      <th>FECHA</th>\n",
       "      <th></th>\n",
       "      <th></th>\n",
       "      <th></th>\n",
       "      <th></th>\n",
       "      <th></th>\n",
       "      <th></th>\n",
       "      <th></th>\n",
       "      <th></th>\n",
       "      <th></th>\n",
       "      <th></th>\n",
       "      <th></th>\n",
       "      <th></th>\n",
       "      <th></th>\n",
       "      <th></th>\n",
       "    </tr>\n",
       "  </thead>\n",
       "  <tbody>\n",
       "    <tr>\n",
       "      <th>1997-07-02</th>\n",
       "      <td>6.714504</td>\n",
       "      <td>9.418606</td>\n",
       "      <td>6.806863</td>\n",
       "      <td>6.883391</td>\n",
       "      <td>8.977220</td>\n",
       "      <td>8.375751</td>\n",
       "      <td>8.091117</td>\n",
       "      <td>5.172511</td>\n",
       "      <td>7.587500</td>\n",
       "      <td>4.970511</td>\n",
       "      <td>4.796275</td>\n",
       "      <td>1997</td>\n",
       "      <td>7</td>\n",
       "      <td>Wednesday</td>\n",
       "    </tr>\n",
       "    <tr>\n",
       "      <th>1997-07-03</th>\n",
       "      <td>6.723759</td>\n",
       "      <td>9.419469</td>\n",
       "      <td>6.821020</td>\n",
       "      <td>6.894184</td>\n",
       "      <td>9.006794</td>\n",
       "      <td>8.395939</td>\n",
       "      <td>8.102216</td>\n",
       "      <td>5.178089</td>\n",
       "      <td>7.572529</td>\n",
       "      <td>4.929226</td>\n",
       "      <td>4.794143</td>\n",
       "      <td>1997</td>\n",
       "      <td>7</td>\n",
       "      <td>Thursday</td>\n",
       "    </tr>\n",
       "    <tr>\n",
       "      <th>1997-07-04</th>\n",
       "      <td>6.731459</td>\n",
       "      <td>9.047596</td>\n",
       "      <td>6.819701</td>\n",
       "      <td>6.895324</td>\n",
       "      <td>9.038176</td>\n",
       "      <td>8.396646</td>\n",
       "      <td>8.100296</td>\n",
       "      <td>5.169943</td>\n",
       "      <td>7.553691</td>\n",
       "      <td>4.908267</td>\n",
       "      <td>4.787493</td>\n",
       "      <td>1997</td>\n",
       "      <td>7</td>\n",
       "      <td>Friday</td>\n",
       "    </tr>\n",
       "    <tr>\n",
       "      <th>1997-07-07</th>\n",
       "      <td>6.735612</td>\n",
       "      <td>9.435578</td>\n",
       "      <td>6.815859</td>\n",
       "      <td>6.898755</td>\n",
       "      <td>9.001550</td>\n",
       "      <td>8.410534</td>\n",
       "      <td>8.104428</td>\n",
       "      <td>5.164795</td>\n",
       "      <td>7.559571</td>\n",
       "      <td>4.881292</td>\n",
       "      <td>4.785874</td>\n",
       "      <td>1997</td>\n",
       "      <td>7</td>\n",
       "      <td>Monday</td>\n",
       "    </tr>\n",
       "    <tr>\n",
       "      <th>1997-07-08</th>\n",
       "      <td>6.741009</td>\n",
       "      <td>9.443040</td>\n",
       "      <td>6.823014</td>\n",
       "      <td>6.913548</td>\n",
       "      <td>8.991528</td>\n",
       "      <td>8.413088</td>\n",
       "      <td>8.094231</td>\n",
       "      <td>5.170894</td>\n",
       "      <td>7.554989</td>\n",
       "      <td>4.892927</td>\n",
       "      <td>4.789907</td>\n",
       "      <td>1997</td>\n",
       "      <td>7</td>\n",
       "      <td>Tuesday</td>\n",
       "    </tr>\n",
       "    <tr>\n",
       "      <th>...</th>\n",
       "      <td>...</td>\n",
       "      <td>...</td>\n",
       "      <td>...</td>\n",
       "      <td>...</td>\n",
       "      <td>...</td>\n",
       "      <td>...</td>\n",
       "      <td>...</td>\n",
       "      <td>...</td>\n",
       "      <td>...</td>\n",
       "      <td>...</td>\n",
       "      <td>...</td>\n",
       "      <td>...</td>\n",
       "      <td>...</td>\n",
       "      <td>...</td>\n",
       "    </tr>\n",
       "    <tr>\n",
       "      <th>2020-05-04</th>\n",
       "      <td>5.685041</td>\n",
       "      <td>9.557986</td>\n",
       "      <td>7.952524</td>\n",
       "      <td>9.086376</td>\n",
       "      <td>8.875144</td>\n",
       "      <td>9.342875</td>\n",
       "      <td>8.471311</td>\n",
       "      <td>5.214559</td>\n",
       "      <td>8.021481</td>\n",
       "      <td>6.008027</td>\n",
       "      <td>6.044615</td>\n",
       "      <td>2020</td>\n",
       "      <td>5</td>\n",
       "      <td>Monday</td>\n",
       "    </tr>\n",
       "    <tr>\n",
       "      <th>2020-05-05</th>\n",
       "      <td>5.720208</td>\n",
       "      <td>9.567136</td>\n",
       "      <td>7.961524</td>\n",
       "      <td>9.097241</td>\n",
       "      <td>8.893150</td>\n",
       "      <td>9.361406</td>\n",
       "      <td>8.488735</td>\n",
       "      <td>5.217838</td>\n",
       "      <td>8.032190</td>\n",
       "      <td>6.009077</td>\n",
       "      <td>6.036104</td>\n",
       "      <td>2020</td>\n",
       "      <td>5</td>\n",
       "      <td>Tuesday</td>\n",
       "    </tr>\n",
       "    <tr>\n",
       "      <th>2020-05-06</th>\n",
       "      <td>5.720279</td>\n",
       "      <td>9.541097</td>\n",
       "      <td>7.954520</td>\n",
       "      <td>9.103296</td>\n",
       "      <td>8.885674</td>\n",
       "      <td>9.345692</td>\n",
       "      <td>8.473415</td>\n",
       "      <td>5.222538</td>\n",
       "      <td>8.043570</td>\n",
       "      <td>6.004368</td>\n",
       "      <td>6.043240</td>\n",
       "      <td>2020</td>\n",
       "      <td>5</td>\n",
       "      <td>Wednesday</td>\n",
       "    </tr>\n",
       "    <tr>\n",
       "      <th>2020-05-07</th>\n",
       "      <td>5.768606</td>\n",
       "      <td>9.507665</td>\n",
       "      <td>7.965959</td>\n",
       "      <td>9.116236</td>\n",
       "      <td>8.899781</td>\n",
       "      <td>9.363627</td>\n",
       "      <td>8.492257</td>\n",
       "      <td>5.220263</td>\n",
       "      <td>8.037244</td>\n",
       "      <td>6.004970</td>\n",
       "      <td>6.035341</td>\n",
       "      <td>2020</td>\n",
       "      <td>5</td>\n",
       "      <td>Thursday</td>\n",
       "    </tr>\n",
       "    <tr>\n",
       "      <th>2020-05-08</th>\n",
       "      <td>5.777871</td>\n",
       "      <td>9.544647</td>\n",
       "      <td>7.982689</td>\n",
       "      <td>9.129168</td>\n",
       "      <td>8.920482</td>\n",
       "      <td>9.377679</td>\n",
       "      <td>8.503554</td>\n",
       "      <td>5.244257</td>\n",
       "      <td>8.047506</td>\n",
       "      <td>6.014545</td>\n",
       "      <td>6.041440</td>\n",
       "      <td>2020</td>\n",
       "      <td>5</td>\n",
       "      <td>Friday</td>\n",
       "    </tr>\n",
       "  </tbody>\n",
       "</table>\n",
       "<p>5963 rows × 14 columns</p>\n",
       "</div>"
      ],
      "text/plain": [
       "                MERV      BVSP      GSPC       NDX      FTSE     GDAXI  \\\n",
       "FECHA                                                                    \n",
       "1997-07-02  6.714504  9.418606  6.806863  6.883391  8.977220  8.375751   \n",
       "1997-07-03  6.723759  9.419469  6.821020  6.894184  9.006794  8.395939   \n",
       "1997-07-04  6.731459  9.047596  6.819701  6.895324  9.038176  8.396646   \n",
       "1997-07-07  6.735612  9.435578  6.815859  6.898755  9.001550  8.410534   \n",
       "1997-07-08  6.741009  9.443040  6.823014  6.913548  8.991528  8.413088   \n",
       "...              ...       ...       ...       ...       ...       ...   \n",
       "2020-05-04  5.685041  9.557986  7.952524  9.086376  8.875144  9.342875   \n",
       "2020-05-05  5.720208  9.567136  7.961524  9.097241  8.893150  9.361406   \n",
       "2020-05-06  5.720279  9.541097  7.954520  9.103296  8.885674  9.345692   \n",
       "2020-05-07  5.768606  9.507665  7.965959  9.116236  8.899781  9.363627   \n",
       "2020-05-08  5.777871  9.544647  7.982689  9.129168  8.920482  9.377679   \n",
       "\n",
       "                FCHI      N225       HSI      SSEC     BSESN  Year  Month  \\\n",
       "FECHA                                                                       \n",
       "1997-07-02  8.091117  5.172511  7.587500  4.970511  4.796275  1997      7   \n",
       "1997-07-03  8.102216  5.178089  7.572529  4.929226  4.794143  1997      7   \n",
       "1997-07-04  8.100296  5.169943  7.553691  4.908267  4.787493  1997      7   \n",
       "1997-07-07  8.104428  5.164795  7.559571  4.881292  4.785874  1997      7   \n",
       "1997-07-08  8.094231  5.170894  7.554989  4.892927  4.789907  1997      7   \n",
       "...              ...       ...       ...       ...       ...   ...    ...   \n",
       "2020-05-04  8.471311  5.214559  8.021481  6.008027  6.044615  2020      5   \n",
       "2020-05-05  8.488735  5.217838  8.032190  6.009077  6.036104  2020      5   \n",
       "2020-05-06  8.473415  5.222538  8.043570  6.004368  6.043240  2020      5   \n",
       "2020-05-07  8.492257  5.220263  8.037244  6.004970  6.035341  2020      5   \n",
       "2020-05-08  8.503554  5.244257  8.047506  6.014545  6.041440  2020      5   \n",
       "\n",
       "              Weekday  \n",
       "FECHA                  \n",
       "1997-07-02  Wednesday  \n",
       "1997-07-03   Thursday  \n",
       "1997-07-04     Friday  \n",
       "1997-07-07     Monday  \n",
       "1997-07-08    Tuesday  \n",
       "...               ...  \n",
       "2020-05-04     Monday  \n",
       "2020-05-05    Tuesday  \n",
       "2020-05-06  Wednesday  \n",
       "2020-05-07   Thursday  \n",
       "2020-05-08     Friday  \n",
       "\n",
       "[5963 rows x 14 columns]"
      ]
     },
     "execution_count": 27,
     "metadata": {},
     "output_type": "execute_result"
    }
   ],
   "source": [
    "data"
   ]
  },
  {
   "cell_type": "code",
   "execution_count": 28,
   "metadata": {},
   "outputs": [
    {
     "name": "stdout",
     "output_type": "stream",
     "text": [
      "(5963, 14)\n"
     ]
    },
    {
     "data": {
      "text/html": [
       "<div>\n",
       "<style scoped>\n",
       "    .dataframe tbody tr th:only-of-type {\n",
       "        vertical-align: middle;\n",
       "    }\n",
       "\n",
       "    .dataframe tbody tr th {\n",
       "        vertical-align: top;\n",
       "    }\n",
       "\n",
       "    .dataframe thead th {\n",
       "        text-align: right;\n",
       "    }\n",
       "</style>\n",
       "<table border=\"1\" class=\"dataframe\">\n",
       "  <thead>\n",
       "    <tr style=\"text-align: right;\">\n",
       "      <th></th>\n",
       "      <th>MERV</th>\n",
       "      <th>BVSP</th>\n",
       "      <th>GSPC</th>\n",
       "      <th>NDX</th>\n",
       "      <th>FTSE</th>\n",
       "      <th>GDAXI</th>\n",
       "      <th>FCHI</th>\n",
       "      <th>N225</th>\n",
       "      <th>HSI</th>\n",
       "      <th>SSEC</th>\n",
       "      <th>BSESN</th>\n",
       "      <th>Year</th>\n",
       "      <th>Month</th>\n",
       "      <th>Weekday</th>\n",
       "    </tr>\n",
       "    <tr>\n",
       "      <th>FECHA</th>\n",
       "      <th></th>\n",
       "      <th></th>\n",
       "      <th></th>\n",
       "      <th></th>\n",
       "      <th></th>\n",
       "      <th></th>\n",
       "      <th></th>\n",
       "      <th></th>\n",
       "      <th></th>\n",
       "      <th></th>\n",
       "      <th></th>\n",
       "      <th></th>\n",
       "      <th></th>\n",
       "      <th></th>\n",
       "    </tr>\n",
       "  </thead>\n",
       "  <tbody>\n",
       "    <tr>\n",
       "      <th>1997-07-02</th>\n",
       "      <td>6.714504</td>\n",
       "      <td>9.418606</td>\n",
       "      <td>6.806863</td>\n",
       "      <td>6.883391</td>\n",
       "      <td>8.977220</td>\n",
       "      <td>8.375751</td>\n",
       "      <td>8.091117</td>\n",
       "      <td>5.172511</td>\n",
       "      <td>7.587500</td>\n",
       "      <td>4.970511</td>\n",
       "      <td>4.796275</td>\n",
       "      <td>1997</td>\n",
       "      <td>7</td>\n",
       "      <td>Wednesday</td>\n",
       "    </tr>\n",
       "    <tr>\n",
       "      <th>1997-07-03</th>\n",
       "      <td>6.723759</td>\n",
       "      <td>9.419469</td>\n",
       "      <td>6.821020</td>\n",
       "      <td>6.894184</td>\n",
       "      <td>9.006794</td>\n",
       "      <td>8.395939</td>\n",
       "      <td>8.102216</td>\n",
       "      <td>5.178089</td>\n",
       "      <td>7.572529</td>\n",
       "      <td>4.929226</td>\n",
       "      <td>4.794143</td>\n",
       "      <td>1997</td>\n",
       "      <td>7</td>\n",
       "      <td>Thursday</td>\n",
       "    </tr>\n",
       "    <tr>\n",
       "      <th>1997-07-04</th>\n",
       "      <td>6.731459</td>\n",
       "      <td>9.047596</td>\n",
       "      <td>6.819701</td>\n",
       "      <td>6.895324</td>\n",
       "      <td>9.038176</td>\n",
       "      <td>8.396646</td>\n",
       "      <td>8.100296</td>\n",
       "      <td>5.169943</td>\n",
       "      <td>7.553691</td>\n",
       "      <td>4.908267</td>\n",
       "      <td>4.787493</td>\n",
       "      <td>1997</td>\n",
       "      <td>7</td>\n",
       "      <td>Friday</td>\n",
       "    </tr>\n",
       "    <tr>\n",
       "      <th>1997-07-07</th>\n",
       "      <td>6.735612</td>\n",
       "      <td>9.435578</td>\n",
       "      <td>6.815859</td>\n",
       "      <td>6.898755</td>\n",
       "      <td>9.001550</td>\n",
       "      <td>8.410534</td>\n",
       "      <td>8.104428</td>\n",
       "      <td>5.164795</td>\n",
       "      <td>7.559571</td>\n",
       "      <td>4.881292</td>\n",
       "      <td>4.785874</td>\n",
       "      <td>1997</td>\n",
       "      <td>7</td>\n",
       "      <td>Monday</td>\n",
       "    </tr>\n",
       "    <tr>\n",
       "      <th>1997-07-08</th>\n",
       "      <td>6.741009</td>\n",
       "      <td>9.443040</td>\n",
       "      <td>6.823014</td>\n",
       "      <td>6.913548</td>\n",
       "      <td>8.991528</td>\n",
       "      <td>8.413088</td>\n",
       "      <td>8.094231</td>\n",
       "      <td>5.170894</td>\n",
       "      <td>7.554989</td>\n",
       "      <td>4.892927</td>\n",
       "      <td>4.789907</td>\n",
       "      <td>1997</td>\n",
       "      <td>7</td>\n",
       "      <td>Tuesday</td>\n",
       "    </tr>\n",
       "  </tbody>\n",
       "</table>\n",
       "</div>"
      ],
      "text/plain": [
       "                MERV      BVSP      GSPC       NDX      FTSE     GDAXI  \\\n",
       "FECHA                                                                    \n",
       "1997-07-02  6.714504  9.418606  6.806863  6.883391  8.977220  8.375751   \n",
       "1997-07-03  6.723759  9.419469  6.821020  6.894184  9.006794  8.395939   \n",
       "1997-07-04  6.731459  9.047596  6.819701  6.895324  9.038176  8.396646   \n",
       "1997-07-07  6.735612  9.435578  6.815859  6.898755  9.001550  8.410534   \n",
       "1997-07-08  6.741009  9.443040  6.823014  6.913548  8.991528  8.413088   \n",
       "\n",
       "                FCHI      N225       HSI      SSEC     BSESN  Year  Month  \\\n",
       "FECHA                                                                       \n",
       "1997-07-02  8.091117  5.172511  7.587500  4.970511  4.796275  1997      7   \n",
       "1997-07-03  8.102216  5.178089  7.572529  4.929226  4.794143  1997      7   \n",
       "1997-07-04  8.100296  5.169943  7.553691  4.908267  4.787493  1997      7   \n",
       "1997-07-07  8.104428  5.164795  7.559571  4.881292  4.785874  1997      7   \n",
       "1997-07-08  8.094231  5.170894  7.554989  4.892927  4.789907  1997      7   \n",
       "\n",
       "              Weekday  \n",
       "FECHA                  \n",
       "1997-07-02  Wednesday  \n",
       "1997-07-03   Thursday  \n",
       "1997-07-04     Friday  \n",
       "1997-07-07     Monday  \n",
       "1997-07-08    Tuesday  "
      ]
     },
     "execution_count": 28,
     "metadata": {},
     "output_type": "execute_result"
    }
   ],
   "source": [
    "print(data.shape)\n",
    "data.head(5)"
   ]
  },
  {
   "cell_type": "code",
   "execution_count": 29,
   "metadata": {},
   "outputs": [
    {
     "name": "stdout",
     "output_type": "stream",
     "text": [
      "5963\n"
     ]
    },
    {
     "data": {
      "text/plain": [
       "FECHA\n",
       "1997-07-02    6.714504\n",
       "1997-07-03    6.723759\n",
       "1997-07-04    6.731459\n",
       "1997-07-07    6.735612\n",
       "1997-07-08    6.741009\n",
       "Name: MERV, dtype: float64"
      ]
     },
     "execution_count": 29,
     "metadata": {},
     "output_type": "execute_result"
    }
   ],
   "source": [
    "data2 = data.iloc[0:5963,0]\n",
    "print(len(data))\n",
    "data2.head(5)"
   ]
  },
  {
   "cell_type": "code",
   "execution_count": 30,
   "metadata": {},
   "outputs": [
    {
     "name": "stdout",
     "output_type": "stream",
     "text": [
      "        t-1       t+1\n",
      "1  6.714504  6.723759\n",
      "2  6.723759  6.731459\n",
      "3  6.731459  6.735612\n",
      "4  6.735612  6.741009\n",
      "5  6.741009  6.740696\n"
     ]
    }
   ],
   "source": [
    "# Create lagged dataset\n",
    "\n",
    "datos = data2.values\n",
    "\n",
    "datos = DataFrame(datos)\n",
    "dataframe = pandas.concat([datos.shift(1), datos], axis=1)\n",
    "dataframe.columns = ['t-1', 't+1']\n",
    "dataframe = dataframe.drop([0], axis=0) # elimino la primer fila porque contiene un NaN\n",
    "print(dataframe.head(5))"
   ]
  },
  {
   "cell_type": "code",
   "execution_count": 31,
   "metadata": {},
   "outputs": [],
   "source": [
    "# Crear Naïve Forecast function\n",
    "\n",
    "def naive_forecast(x):\n",
    "    return x"
   ]
  },
  {
   "cell_type": "code",
   "execution_count": 32,
   "metadata": {},
   "outputs": [
    {
     "name": "stdout",
     "output_type": "stream",
     "text": [
      "Test MSE: 0.00192\n"
     ]
    }
   ],
   "source": [
    "# Aplicar el Naïve Forecast en los datos (con walk forward validation)\n",
    "\n",
    "imput, real = dataframe['t-1'], dataframe['t+1']\n",
    "\n",
    "predictions = list()\n",
    "for x in imput:\n",
    "    prediccion = naive_forecast(x)\n",
    "    predictions.append(prediccion)\n",
    "test_score = mean_squared_error(real, predictions)\n",
    "print('Test MSE: %.5f' % test_score)\n"
   ]
  },
  {
   "cell_type": "markdown",
   "metadata": {},
   "source": [
    "El modelo Naïve Bayes es increiblemente simple, de hecho gran parte de todas estas líneas de código se podrían haber ahorrado y directamente se podría haber calculado el Error Cuadrático Medio entre la columna 't-1' y la columna 't+1' del dataframe 'dataframe'. Esto queda demostrado en la siguiente celda:"
   ]
  },
  {
   "cell_type": "code",
   "execution_count": 33,
   "metadata": {},
   "outputs": [
    {
     "name": "stdout",
     "output_type": "stream",
     "text": [
      "0.0019249577601646807\n"
     ]
    }
   ],
   "source": [
    "Error_simple = mean_squared_error(dataframe['t+1'], dataframe['t-1'])\n",
    "\n",
    "print(Error_simple)"
   ]
  },
  {
   "cell_type": "markdown",
   "metadata": {},
   "source": [
    "## Modelo ARIMA sobre el log de la serie"
   ]
  },
  {
   "cell_type": "markdown",
   "metadata": {},
   "source": [
    "Lo que se hace ahora es aplicar un Modelo ARIMA sobre el logaritmo de la serie del Merval. Se hace porque estamos interesados en saber si este modelo ARiMA es mejor que el modelo baseline que acabamos de aplicar, es decir, se quiere averiguar si un ARMA es un mejor modelo predictivo de los rendimientos diarios que un simple Naïve Bayes.\n",
    "\n",
    "En este caso si se utiliza un proceso integrado (ARIMA y no ARMA), porque tal como se ve en el siguiente gráfico, al estar utilizando el logaritmo de la serie la misma no es estacionaria, por lo que deberemos aplicar diferencia sobre la misma para que se convierta en tal.  "
   ]
  },
  {
   "cell_type": "code",
   "execution_count": 34,
   "metadata": {},
   "outputs": [
    {
     "data": {
      "text/plain": [
       "<AxesSubplot:>"
      ]
     },
     "execution_count": 34,
     "metadata": {},
     "output_type": "execute_result"
    },
    {
     "data": {
      "image/png": "[encoded data removed]",
      "text/plain": [
       "<Figure size 1080x720 with 1 Axes>"
      ]
     },
     "metadata": {
      "needs_background": "light"
     },
     "output_type": "display_data"
    }
   ],
   "source": [
    "plt.figure(figsize=(15,10))\n",
    "\n",
    "sb.lineplot(data = datos, label = 'Merval log')"
   ]
  },
  {
   "cell_type": "markdown",
   "metadata": {},
   "source": [
    "### Entrenamiento del modelo ARIMA"
   ]
  },
  {
   "cell_type": "code",
   "execution_count": 35,
   "metadata": {},
   "outputs": [
    {
     "name": "stdout",
     "output_type": "stream",
     "text": [
      "                             ARIMA Model Results                              \n",
      "==============================================================================\n",
      "Dep. Variable:                    D.y   No. Observations:                 5962\n",
      "Model:                 ARIMA(1, 1, 1)   Log Likelihood               10487.872\n",
      "Method:                       css-mle   S.D. of innovations              0.042\n",
      "Date:                Mon, 28 Sep 2020   AIC                         -20967.743\n",
      "Time:                        21:30:44   BIC                         -20940.970\n",
      "Sample:                             1   HQIC                        -20958.443\n",
      "                                                                              \n",
      "==============================================================================\n",
      "                 coef    std err          z      P>|z|      [0.025      0.975]\n",
      "------------------------------------------------------------------------------\n",
      "const         -0.0002      0.000     -0.487      0.626      -0.001       0.000\n",
      "ar.L1.D.y      0.1645      0.038      4.312      0.000       0.090       0.239\n",
      "ma.L1.D.y     -0.4898      0.034    -14.422      0.000      -0.556      -0.423\n",
      "                                    Roots                                    \n",
      "=============================================================================\n",
      "                  Real          Imaginary           Modulus         Frequency\n",
      "-----------------------------------------------------------------------------\n",
      "AR.1            6.0807           +0.0000j            6.0807            0.0000\n",
      "MA.1            2.0418           +0.0000j            2.0418            0.0000\n",
      "-----------------------------------------------------------------------------\n"
     ]
    },
    {
     "data": {
      "image/png": "[encoded data removed]",
      "text/plain": [
       "<Figure size 432x288 with 1 Axes>"
      ]
     },
     "metadata": {
      "needs_background": "light"
     },
     "output_type": "display_data"
    },
    {
     "data": {
      "image/png": "[encoded data removed]",
      "text/plain": [
       "<Figure size 432x288 with 1 Axes>"
      ]
     },
     "metadata": {
      "needs_background": "light"
     },
     "output_type": "display_data"
    },
    {
     "name": "stdout",
     "output_type": "stream",
     "text": [
      "                 0\n",
      "count  5962.000000\n",
      "mean      0.000001\n",
      "std       0.041670\n",
      "min      -0.627109\n",
      "25%      -0.010755\n",
      "50%       0.002011\n",
      "75%       0.013882\n",
      "max       0.491196\n"
     ]
    }
   ],
   "source": [
    "from statsmodels.tsa.arima_model import ARIMA\n",
    "from pandas import DataFrame\n",
    "\n",
    "datos =datos.values\n",
    "\n",
    "model = ARIMA(datos, order=(1,1,1))\n",
    "model_fit = model.fit(disp=0)\n",
    "print(model_fit.summary())\n",
    "\n",
    "# plot residual errors\n",
    "residuals = DataFrame(model_fit.resid)\n",
    "residuals.plot()\n",
    "pyplot.show()\n",
    "residuals.plot(kind='kde')\n",
    "pyplot.show()\n",
    "print(residuals.describe())"
   ]
  },
  {
   "cell_type": "markdown",
   "metadata": {},
   "source": [
    "Hasta ahora solamente se probó el modelo ARIMA en el total de los datos disponibles, a continuación se utilizará para realizar predicciones. "
   ]
  },
  {
   "cell_type": "markdown",
   "metadata": {},
   "source": [
    "### Predicción con modelo ARIMA"
   ]
  },
  {
   "cell_type": "code",
   "execution_count": 36,
   "metadata": {},
   "outputs": [
    {
     "data": {
      "text/plain": [
       "(3935, 2027)"
      ]
     },
     "execution_count": 36,
     "metadata": {},
     "output_type": "execute_result"
    }
   ],
   "source": [
    "# Division en train y test\n",
    "\n",
    "size = int(len(datos) * 0.66)\n",
    "train, test = datos[0:size], datos[size:len(X)]\n",
    "history = [x for x in train]\n",
    "\n",
    "len(history), len(test)"
   ]
  },
  {
   "cell_type": "code",
   "execution_count": 32,
   "metadata": {},
   "outputs": [
    {
     "name": "stdout",
     "output_type": "stream",
     "text": [
      "Test MSE: 0.001\n"
     ]
    },
    {
     "data": {
      "image/png": "[encoded data removed]",
      "text/plain": [
       "<Figure size 432x288 with 1 Axes>"
      ]
     },
     "metadata": {
      "needs_background": "light"
     },
     "output_type": "display_data"
    }
   ],
   "source": [
    "import warnings\n",
    "warnings.filterwarnings(\"ignore\")\n",
    "\n",
    "predictions = list()\n",
    "for t in range(len(test)):\n",
    "    model = ARIMA(history, order=(1,1,1))\n",
    "    model_fit = model.fit(disp=0)\n",
    "    output = model_fit.forecast()\n",
    "    yhat = output[0]\n",
    "    predictions.append(yhat)\n",
    "    obs = test[t]\n",
    "    history.append(obs)\n",
    "    #print('predicted=%f, expected=%f' % (yhat, obs))\n",
    "error = mean_squared_error(test, predictions)\n",
    "print('Test MSE: %.3f' % error)\n",
    "# plot\n",
    "pyplot.plot(test)\n",
    "pyplot.plot(predictions, color='red')\n",
    "pyplot.show()"
   ]
  },
  {
   "cell_type": "markdown",
   "metadata": {},
   "source": [
    "En el gráfico la línea azul (de observaciones reales) casi no se distingue, lo cual indica que el modelo predictivo ARIMA(1,1,1) está siguiente una 'regla' bastante parecida a la de un modelo Naïve Forecast: para cada observación t, predecir que la misma adoptará un valor muy parecido a la observacion inmediatamente anterior t-1. De hecho, el Error Cuadrático Medio del ARIMA(1,1,1) es casi idéntico al del Naïve Forecast aplicado sobre la totalidad de los datos. Veremos a continuación el ECM del Naïve Forecast aplicado sobre las mismas observaciones de test que el ARIMA. "
   ]
  },
  {
   "cell_type": "code",
   "execution_count": 33,
   "metadata": {},
   "outputs": [
    {
     "name": "stdout",
     "output_type": "stream",
     "text": [
      "Test MSE: 0.00085\n"
     ]
    }
   ],
   "source": [
    "imput, real = dataframe['t-1'], dataframe['t+1']\n",
    "imput, real = imput[size:len(imput)], real[size:len(real)]\n",
    "\n",
    "predictions = list()\n",
    "for x in imput:\n",
    "    prediccion = naive_forecast(x)\n",
    "    predictions.append(prediccion)\n",
    "test_score = mean_squared_error(real, predictions)\n",
    "print('Test MSE: %.5f' % test_score)\n"
   ]
  },
  {
   "cell_type": "markdown",
   "metadata": {},
   "source": [
    "Entonces cuando comparamos la performance del modelo ARIMA(1,1,1) con un Naïve Bayes sobre el mismo conjunto de test, llegamos a la conclusion de que el Naïve es levemente mejor, lo cual coincide con lo que habíamos obtenido cuando comparamos el baseline y el ARMA(1,1) sober los rendimientos diarios.\n",
    "\n",
    "En cualquier, o casi cualquier otro contexto, el hecho de que modelos complejos como ARMA y ARIMA no superen a modelos baseline simples como Average Forecast o Naïves Bayes sería, cuanto menos, decepcionante. Sin embargo, cuando consideramos el problema al cual nos estamos enfrentando, es decir, cuando nos detenemos a pensar que al fin y al cabo lo que estamos intentando de hacer es predecir las variaciones de un índice financiero, es entendible que no haya ningun modelo que tenga resultados demasiados prometedores. \n",
    "\n",
    "Esto es porque en caso de que dicho modelo exista, traeria consigo la posibilidad de obtener grandes beneficios en el mercado, y todos los agentes comenzarían a usarlo.\n",
    "\n",
    "Es por eso que no se puede definir a un modelo como \"bueno\" o \"malo\" sin considerar también la finalidad para la cual el modelo está siendo aplicado. Esto significa que si bien es cierto que ninguno de los modelos implementados en este trabajo superó a los modelos baseline, no podríamos clasificarlos como malos cuando en realidad no existe ningun otro modelo, por más complejo que sea, que consistemente acierte la dirección de los movimientos de la bolsa. Lo más que podemos decir, es asegurar que un modelo ARIMA o ARMA no es útil para hacerse millonario. "
   ]
  },
  {
   "cell_type": "markdown",
   "metadata": {},
   "source": [
    "## Búsqueda de parámetros para el modelo ARIMA\n",
    "\n",
    "Los resultados recientemente obtenidos dependen de los valores que le pasamos al modelo ARIMA. Particularmente, sólo se entreno y se predijo un sólo modelo ARIMA que tenía un orden de autocorrleación y de media móvil iguales a 1 (p=1 y q=1). Si cambiamos los parámetros del modelo, se obtendrán diferentes predicciones y por ende se llegará a un error cuadrático distinto, el cual puede ser mejor o peor que el ya obtenido.\n",
    "\n",
    "Lo que se hace a continuación es definir una serie de diferentes valores para los parámetros del modelo ARIMA y calcular el Error cuadrático del modelo con cada una de las combinaciones posibles. Esto sirve para determinar si hay algun grado de autocorrelación o de medias móviles para los cuales el modelo ARIMA sea definitivamente un mejor modelo predictivo que el baseline. "
   ]
  },
  {
   "cell_type": "code",
   "execution_count": 37,
   "metadata": {},
   "outputs": [],
   "source": [
    "# aca en el primer argumento tengo que poner 'datos' y en el segundo tengo que crear el vector y ponerlo\n",
    "\n",
    "def evaluate_arima_model(X, arima_order):  \n",
    "    # prepare training dataset\n",
    "    train_size = int(len(X) * 0.66)\n",
    "    train, test = X[0:train_size], X[train_size:]\n",
    "    history = [x for x in train]\n",
    "    # make predictions\n",
    "    predictions = list()\n",
    "    for t in range(len(test)):\n",
    "        model = ARIMA(history, order=arima_order)\n",
    "        model_fit = model.fit(disp=0)\n",
    "        yhat = model_fit.forecast()[0]\n",
    "        predictions.append(yhat)\n",
    "        history.append(test[t])\n",
    "    # calculate out of sample error\n",
    "    error = mean_squared_error(test, predictions)\n",
    "    return error"
   ]
  },
  {
   "cell_type": "code",
   "execution_count": 35,
   "metadata": {},
   "outputs": [],
   "source": [
    "\n",
    "def evaluate_models(dataset, p_values, d_values, q_values):\n",
    "    dataset = dataset.astype('float32')\n",
    "    best_score, best_cfg = float(\"inf\"), None\n",
    "    for p in p_values:\n",
    "        for d in d_values:\n",
    "            for q in q_values:\n",
    "                order = (p,d,q)\n",
    "                try:\n",
    "                    mse = evaluate_arima_model(dataset, order)\n",
    "                    if mse < best_score:\n",
    "                        best_score, best_cfg = mse, order\n",
    "                    print('ARIMA%s MSE=%.3f' % (order,mse))\n",
    "                except:\n",
    "                    continue\n",
    "    print('Best ARIMA%s MSE=%.5f' % (best_cfg, best_score))\n",
    "    "
   ]
  },
  {
   "cell_type": "code",
   "execution_count": null,
   "metadata": {},
   "outputs": [],
   "source": [
    "def evaluate_models(dataset, p_values, d_values, q_values):\n",
    "    dataset = dataset.astype('float32')\n",
    "    best_score, best_cfg = float(\"inf\"), None\n",
    "    for p in p_values:\n",
    "        for q in q_values:\n",
    "            order = (p,1,q)\n",
    "            try:\n",
    "                mse = evaluate_arima_model(dataset, order)\n",
    "                if mse < best_score:\n",
    "                    best_score, best_cfg = mse, order\n",
    "                print('ARIMA%s MSE=%.5f' % (order,mse))\n",
    "            except:\n",
    "                continue\n",
    "    print('Best ARIMA%s MSE=%.5f' % (best_cfg, best_score))"
   ]
  },
  {
   "cell_type": "code",
   "execution_count": null,
   "metadata": {},
   "outputs": [
    {
     "name": "stdout",
     "output_type": "stream",
     "text": [
      "ARIMA(1, 1, 0) MSE=0.001\n",
      "ARIMA(1, 1, 1) MSE=0.001\n",
      "ARIMA(1, 1, 2) MSE=0.001\n",
      "ARIMA(5, 1, 0) MSE=0.001\n"
     ]
    }
   ],
   "source": [
    "import warnings\n",
    "warnings.filterwarnings(\"ignore\")\n",
    "\n",
    "# evaluate parameters\n",
    "p_values = [1, 5, 10, 15]\n",
    "d_values = [1, 1, 1]\n",
    "q_values = range(0, 3)\n",
    "warnings.filterwarnings(\"ignore\")\n",
    "evaluate_models(datos, p_values, d_values, q_values)"
   ]
  },
  {
   "cell_type": "code",
   "execution_count": 38,
   "metadata": {},
   "outputs": [],
   "source": []
  },
  {
   "cell_type": "code",
   "execution_count": null,
   "metadata": {},
   "outputs": [],
   "source": []
  }
 ],
 "metadata": {
  "colab": {
   "authorship_tag": "ABX9TyM+shMlk2ZsfsHEvOMY9z6U",
   "collapsed_sections": [],
   "name": "Tercera Entrega.ipynb",
   "provenance": []
  },
  "kernelspec": {
   "display_name": "Python 3",
   "language": "python",
   "name": "python3"
  },
  "language_info": {
   "codemirror_mode": {
    "name": "ipython",
    "version": 3
   },
   "file_extension": ".py",
   "mimetype": "text/x-python",
   "name": "python",
   "nbconvert_exporter": "python",
   "pygments_lexer": "ipython3",
   "version": "3.8.3"
  }
 },
 "nbformat": 4,
 "nbformat_minor": 4
}
